{
 "cells": [
  {
   "cell_type": "markdown",
   "id": "076dba19",
   "metadata": {
    "slideshow": {
     "slide_type": "-"
    }
   },
   "source": [
    "# Introductie"
   ]
  },
  {
   "cell_type": "markdown",
   "id": "c5852ccb",
   "metadata": {},
   "source": [
    "Terrorisme is een wereldwijd probleem dat nog steeds actueel is en impact heeft op samenlevingen over de hele wereld. Terrorisme wordt gedefinieerd als het plegen van geweld vanuit ideologische motieven, specifiek gericht op het vermoorden van mensen en het ontwrichten van de maatschappij (Ministerie van Justitie en Veiligheid, 2023). Het doel is meestal om angst te zaaien en om een maatschappelijke of politieke verandering te veroorzaken. Vaak wordt er veel geweld gepleegd en raken er mensen gewond en komen zelfs te overlijden. Terrorisme zorgt voor internationale spanningen en kan de vrede aantasten. Ook kan een terroristische aanval voor trauma’s zorgen bij slachtoffers, daarom is het niet gek dat veel mensen bang zijn voor een volgende terroristische aanval. Het is daarom aan regeringen, organisaties en individuen de taak om terrorisme te bestrijden en voor een vreedzame oplossing te kiezen. \n",
    "\n",
    "In dit vak zullen we ons richten op het verkennen en begrijpen van terrorisme aan de hand van de Terrorisme dataset, waarbij we ons met name zullen focussen op specifieke dimensies. De Terrorisme dataset biedt ons een enorme hoeveelheid aan data die ons in staat stelt om het fenomeen terrorisme vanuit verschillende perspectieven te analyseren. We gebruiken in het onderzoek twee perspectieven. Het eerste perspectief is vanuit het standpunt dat terrorisme een groot probleem is en dat er meer geld en focus aan besteed moet worden. Het tweede perspectief is vanuit de beleving dat terrorisme de laatste jaren een veel minder grote rol is gaan spelen. De beide perspectieven staan lijnrecht tegenover elkaar. In dit onderzoek wordt er getoond wat de trend is van terrorisme vanaf het jaar 2000. Het laat zien of terrorisme is toegenomen, in welke landen dit het meeste speelt, hoeveel slachtoffers er vallen bij terrorisme en hoe groot de schade is bij een aanval. Het onderzoek laat zien in welke gebieden en landen de zwaarste aanvallen plaatsvinden. \n",
    "\n",
    "Een belangrijk doel van dit vak is het gebruik van visualisatietechnieken om de complexe gegevens in de Terrorisme dataset relatief simpel te visualiseren voor een breed publiek. Door middel van grafieken, kaarten en andere visuele representaties zullen we proberen patronen en trends in de data te ontdekken. Op die manier kunnen we beter begrijpen waar terroristische aanvallen vaker voorkomen en waarom bepaalde regio's meer getroffen worden dan andere en wat daarvoor de redenen zouden zijn. \n",
    "\n"
   ]
  },
  {
   "cell_type": "markdown",
   "id": "efc62fd4",
   "metadata": {},
   "source": [
    "# Dataset and preprocessing"
   ]
  },
  {
   "cell_type": "markdown",
   "id": "14bdb5f7",
   "metadata": {},
   "source": [
    "De dataset die gekozen was voor dit project heet ‘Global Terrorism Database’. Dit is een dataset waar alle terroristische aanslagen van de wereld in worden bijgehouden. Hierin worden vele variabelen per aanval nauwkeurig ingevoerd. Het was een relevante dataset tot en met 2017. \n",
    "\n",
    "De dataset geeft 135 verschillende variabelen over een tijdspanne van 47 jaar, namelijk van 1970 tot 2017. Dit is erg veel data. Deze hoeveelheid data is moeilijk om in te testen op een normale computer dus moest de dataset ‘preprocessed’ worden. Dit is een methode waarbij de dataset wordt ingeladen door middel van filteren. Specifieke rijen en kolommen werden uitgekozen voor de preprocessed dataset. \n",
    "\n",
    "De rijen in deze dataset stellen terroristische aanslagen voor. Op basis van een bepaalde variabelen konden wij bepalen met welke voorvallen wij wilden werken. We besloten om voornamelijk met jaartallen te werken. Om een dataset te krijgen die nog steeds relatief relevante informatie bevatte en snel kon inladen, hebben we besloten om de data van 2000 tot 2017 te gebruiken. De meest relevante data wordt hiermee dus gebruikt en er zijn genoeg jaren ervoor om correlaties en relaties uit te vinden. \n",
    "\n",
    "De kolommen waren representatief voor de variabelen in het bestand. De variabelen die interessant waren en meningen opbrachten zijn gekozen als variabelen voor het preprocessed bestand. Dit waren de volgende variabelen: eventid, iyear, country_txt, region_txt, nkill, propextent_txt, nwound en succes. \n",
    "\n",
    "Deze filteringen gaven een bestand dat snel kon inladen maar nog steeds veel data bevatte. De variabelen geven statistieken die belangrijk zijn en de terroristische voorvallen zijn verdeeld over 17 jaar waardoor er consistentie in de data gevonden kan worden. Dit is de code die gebruikt is om de gekozen dataset om te zetten in een preprocessed dataset: \n",
    "\n"
   ]
  },
  {
   "cell_type": "code",
   "execution_count": 4,
   "id": "15c7736c",
   "metadata": {
    "tags": [
     "hide-input"
    ]
   },
   "outputs": [],
   "source": [
    "import pandas as pd\n",
    "import matplotlib.pyplot as plt\n",
    "import seaborn as sns\n",
    "\n",
    "filename = \"globalterrorismdb_0718dist.csv\"\n",
    "\n",
    "try:\n",
    "    # Read the CSV file and select desired columns\n",
    "    data = pd.read_csv(filename, usecols=[\"eventid\",\"iyear\", \"imonth\", \"country_txt\", \"region_txt\", \"nkill\", \"propextent_txt\", \"natlty1_txt\", \"latitude\", \"longitude\"], encoding=\"latin-1\")\n",
    "\n",
    "    # Filter rows based on the year condition\n",
    "    data = data[data[\"iyear\"] >= 2000]\n",
    "\n",
    "    # Iterate over each row and print the selected columns\n",
    "    for index, row in data.iterrows():\n",
    "        eventid = row[\"eventid\"]\n",
    "        year = row[\"iyear\"]\n",
    "        month = row[\"imonth\"]\n",
    "        country = row[\"country_txt\"]\n",
    "        region = row[\"region_txt\"]\n",
    "        nkill = row[\"nkill\"]\n",
    "        propextent = row[\"propextent_txt\"]\n",
    "        natlty1 = row[\"natlty1_txt\"]\n",
    "        latitude = row[\"latitude\"]\n",
    "        longitude = row[\"longitude\"]\n",
    "         \n",
    "except FileNotFoundError:\n",
    "    print(f\"Error: File '{filename}' not found.\")\n",
    "except IOError:\n",
    "    print(f\"Error: Could not open or read file '{filename}'.\")"
   ]
  },
  {
   "cell_type": "markdown",
   "id": "8f7236e6",
   "metadata": {},
   "source": [
    "# Perspectief 1: Er moet meer tijd en geld besteed worden om terrorisme te stoppen"
   ]
  },
  {
   "cell_type": "code",
   "execution_count": 5,
   "id": "28d4fc83",
   "metadata": {
    "hidden": true
   },
   "outputs": [
    {
     "data": {
      "image/png": "[encoded data removed]",
      "text/plain": [
       "<Figure size 720x432 with 1 Axes>"
      ]
     },
     "metadata": {
      "needs_background": "light"
     },
     "output_type": "display_data"
    }
   ],
   "source": [
    "data = data[data[\"iyear\"] >= 2000]\n",
    "\n",
    "attack_counts = data[\"iyear\"].value_counts().sort_index()\n",
    "\n",
    "colors = []\n",
    "for count in attack_counts.values:\n",
    "    if count < 4000:\n",
    "        colors.append('green')\n",
    "    elif count < 5000:\n",
    "        colors.append('orange')\n",
    "    elif count < 9000:\n",
    "        colors.append('tomato')\n",
    "    else:\n",
    "        colors.append('red')\n",
    "\n",
    "plt.figure(figsize=(10, 6))\n",
    "plt.bar(attack_counts.index, attack_counts.values, color=colors)\n",
    "plt.xticks(attack_counts.index, rotation=45)\n",
    "\n",
    "plt.xlabel(\"Jaartal\")\n",
    "plt.ylabel(\"Aantal Aanslagen\")\n",
    "plt.title(\"Visualisatie 1: Trend van Terroristische Aanvallen door de Jaren Heen\")\n",
    "plt.show()"
   ]
  },
  {
   "cell_type": "markdown",
   "id": "6a55657b",
   "metadata": {},
   "source": [
    "------------------------------------------------------------------------------------------------------"
   ]
  },
  {
   "cell_type": "markdown",
   "id": "be6cd3cb",
   "metadata": {
    "hidden": true
   },
   "source": [
    "## Descriptie visualisatie 1"
   ]
  },
  {
   "cell_type": "markdown",
   "id": "c31aa453",
   "metadata": {
    "hidden": true
   },
   "source": [
    "In dit histogram wordt de trend van terroristische aanvallen door de jaren heen weergegeven. Het aantal aanslagen per jaar wordt weergegeven op de y-as, terwijl de jaartallen worden weergegeven op de x-as. Het histogram bestaat uit staafjes, waarbij elke staaf de frequentie van aanslagen vertegenwoordigt voor een specifiek jaar."
   ]
  },
  {
   "cell_type": "markdown",
   "id": "e342c294",
   "metadata": {},
   "source": [
    "------------------------------------------------------------------------------------------------------"
   ]
  },
  {
   "cell_type": "markdown",
   "id": "a8e7ef09",
   "metadata": {},
   "source": [
    "Zoals in visualisatie 1 te zien is neemt het aantal aanslagen sinds 2011 sterk toe, dit zal kunnen leiden tot toenemende maatschappelijke onrust: Een stijging in het aantal aanslagen kan leiden tot groeiende onrust en instabiliteit in de samenleving. Aanslagen zaaien angst en onzekerheid, wat kan leiden tot verdeeldheid tussen mensen. Het is van groot belang om de onderliggende oorzaken en factoren van deze trend te begrijpen, zodat we maatregelen kunnen nemen om de maatschappelijke onrust tegen te gaan en het aantal aanslagen te verminderen."
   ]
  },
  {
   "cell_type": "code",
   "execution_count": 6,
   "id": "8ca5a9da",
   "metadata": {
    "hidden": true
   },
   "outputs": [
    {
     "name": "stderr",
     "output_type": "stream",
     "text": [
      "C:\\Users\\madsb\\anaconda3\\lib\\site-packages\\pandas\\core\\indexing.py:1817: SettingWithCopyWarning: \n",
      "A value is trying to be set on a copy of a slice from a DataFrame.\n",
      "Try using .loc[row_indexer,col_indexer] = value instead\n",
      "\n",
      "See the caveats in the documentation: https://pandas.pydata.org/pandas-docs/stable/user_guide/indexing.html#returning-a-view-versus-a-copy\n",
      "  self._setitem_single_column(loc, value, pi)\n"
     ]
    },
    {
     "data": {
      "image/png": "[encoded data removed]",
      "text/plain": [
       "<Figure size 432x288 with 1 Axes>"
      ]
     },
     "metadata": {},
     "output_type": "display_data"
    }
   ],
   "source": [
    "import matplotlib.pyplot as plt\n",
    "\n",
    "filename = \"globalterrorismdb_0718dist.csv\"\n",
    "\n",
    "# Lees de dataset in een pandas DataFrame\n",
    "dataset = pd.read_csv(filename, usecols=[\"iyear\", \"imonth\", \"country_txt\", \"region_txt\", \"region\", \"nkill\", \"nwound\", \"propextent_txt\", \"natlty1_txt\"], encoding=\"latin-1\")\n",
    "\n",
    "# Filter de gegevens met 'major' schade\n",
    "dataset_major_schade = dataset[dataset['propextent_txt'] == 'Major (likely >= $1 million but < $1 billion)']\n",
    "\n",
    "# Combineer \"East Asia\" en \"Central Asia\" in \"Asia\"\n",
    "dataset_major_schade.loc[dataset_major_schade['region_txt'].isin([\"East Asia\", \"Central Asia\"]), 'region_txt'] = 'Asia'\n",
    "\n",
    "# Bereken het percentage 'major' schade per land\n",
    "percentage_per_land = dataset_major_schade['region_txt'].value_counts(normalize=True) * 100\n",
    "\n",
    "# Plot het cirkeldiagram\n",
    "plt.figure(figsize=(6, 4))  # Pas de grootte van de figuur aan\n",
    "plt.pie(percentage_per_land, labels=percentage_per_land.index, autopct='%1.1f%%')\n",
    "plt.title(\"Visualisatie : Percentage 'major' schade per regio bij een aanval\")\n",
    "plt.axis('equal')  # Zorg ervoor dat het cirkeldiagram een perfecte cirkel is\n",
    "\n",
    "# Toon het cirkeldiagram\n",
    "plt.show()\n",
    "\n"
   ]
  },
  {
   "cell_type": "markdown",
   "id": "913f46fc",
   "metadata": {},
   "source": [
    "------------------------------------------------------------------------------------------------------"
   ]
  },
  {
   "cell_type": "markdown",
   "id": "ce006a3b",
   "metadata": {
    "hidden": true
   },
   "source": [
    "## Descriptie visualisatie 2"
   ]
  },
  {
   "cell_type": "markdown",
   "id": "4279d2ad",
   "metadata": {
    "hidden": true
   },
   "source": [
    "Bij deze visualisatie worden alle regio’s met elkaar vergeleken op basis van de hoeveelheid ‘major’ schade die veroorzaakt is door terrorisme. ‘Major’ schade wordt gedefinieerd als schade die meer dan 1 miljoen euro heeft gekost om te herstellen.\n",
    "Dit cirkeldiagram laat zien welke landen te maken hebben gehad met ‘major’ schade, weergegeven in percentages. 18.7% betekent dus dat van alle aanvallen die ‘major’ schade hebben veroorzaakt, er 18.7% in West-Europa hebben plaatsgevonden. \n"
   ]
  },
  {
   "cell_type": "markdown",
   "id": "062b6bce",
   "metadata": {},
   "source": [
    "------------------------------------------------------------------------------------------------------"
   ]
  },
  {
   "cell_type": "markdown",
   "id": "d2d6d682",
   "metadata": {},
   "source": [
    "In visualisatie 2 is te zien dat terrorisme een wereldwijd probleem is, met de hoogste percentages van ‘major’ schade in Zuid Amerika, West Europa en het Midden Oosten & Noord Afrika. Uit de hoge percentages in gebieden zoals West Europa en Zuid Amerika is af te leiden dat ook ontwikkelde landen met geavanceerde veiligheidsmaatregelen kwetsbaar zijn voor terrorisme. Er moet daarom dringend worden gezocht naar een manier om terrorisme te bestrijden. Overheden en internationale organisaties moeten samenwerken om terrorisme tegen te gaan, zodat de schade zoveel mogelijk beperkt blijft. "
   ]
  },
  {
   "cell_type": "markdown",
   "id": "4ad3486d",
   "metadata": {},
   "source": [
    "# Perspectief 2: Er moet minder/evenveel tijd en geld besteed worden aan terrorisme stoppen"
   ]
  },
  {
   "cell_type": "code",
   "execution_count": 7,
   "id": "11aebb58",
   "metadata": {
    "hidden": true
   },
   "outputs": [
    {
     "data": {
      "image/png": "[encoded data removed]",
      "text/plain": [
       "<Figure size 432x288 with 1 Axes>"
      ]
     },
     "metadata": {
      "needs_background": "light"
     },
     "output_type": "display_data"
    }
   ],
   "source": [
    "# Lees de dataset in een pandas DataFrame\n",
    "dataset = pd.read_csv(filename, usecols=[\"iyear\", \"imonth\", \"country_txt\", \"region_txt\", \"nkill\", \"nwound\", \"propextent_txt\", \"natlty1_txt\"], encoding=\"latin-1\") \n",
    "\n",
    "dataset_filtered = dataset[(dataset['iyear'] >= 2000) & (dataset['iyear'] <= 2017)]\n",
    "# Bereken het totale aantal gewonden en doden per jaar\n",
    "aantal_gewonden_per_jaar = dataset_filtered.groupby('iyear')['nwound'].sum()\n",
    "aantal_doden_per_jaar = dataset_filtered.groupby('iyear')['nkill'].sum()\n",
    "\n",
    "# Maak het lijndiagram\n",
    "fig, ax = plt.subplots()\n",
    "ax.plot(aantal_gewonden_per_jaar.index, aantal_gewonden_per_jaar.values, label='Gewonden')\n",
    "ax.plot(aantal_doden_per_jaar.index, aantal_doden_per_jaar.values, label='Doden')\n",
    "\n",
    "# Stel de titel en labels in\n",
    "ax.set_title('Visualisatie 4: Aantal gewonden en doden per jaar door terroristische aanvallen')\n",
    "ax.set_xlabel('Jaar')\n",
    "ax.set_ylabel('Aantal')\n",
    "ax.legend()\n",
    "\n",
    "# Zet de x-as op jaarlijkse basis\n",
    "ax.set_xticks(aantal_gewonden_per_jaar.index)\n",
    "ax.set_xticklabels(aantal_gewonden_per_jaar.index, rotation=45)\n",
    "\n",
    "# Toon het lijndiagram\n",
    "plt.show()"
   ]
  },
  {
   "cell_type": "markdown",
   "id": "d02cb928",
   "metadata": {},
   "source": [
    "------------------------------------------------------------------------------------------------------"
   ]
  },
  {
   "cell_type": "markdown",
   "id": "4e88b4a6",
   "metadata": {},
   "source": [
    "## Descriptie 4"
   ]
  },
  {
   "cell_type": "markdown",
   "id": "5e15570f",
   "metadata": {},
   "source": [
    "Visualisatie 4 is lijndiagram waar de trend te zien is van het aantal gewonden en doden bij een terroristische aanval per jaar vanaf 2000. Het aantal mensen dat gewond raakt of overlijdt tijdens een aanval wordt weergegeven op de y-as. De jaartallen staan vermeld op de x-as van dit lijndiagram. De blauwe laat het aantal gewonden per jaar zien en de oranje lijn laat het aantal doden zien.  "
   ]
  },
  {
   "cell_type": "markdown",
   "id": "9424203a",
   "metadata": {},
   "source": [
    "------------------------------------------------------------------------------------------------------"
   ]
  },
  {
   "cell_type": "markdown",
   "id": "8b7d6d71",
   "metadata": {},
   "source": [
    "In het lijndiagram van visualisatie 4 is te zien dat er een piek was van het aantal doden en gewonden door een terroristische aanval tussen 2013 en 2015. De stijging van doden en gewonden is vanaf 2011 sterk toegenomen, daarnaast is er een sterke daling te zien van 2015 tot 2017. Terroristische aanvallen zijn de laatste jaren verminderd en er vallen minder gewonden en doden. Hierdoor is het niet nodig om meer geld te besteden om terrorisme te stoppen. De dalende trend is al ingezet en de wereldvrede is stabiel, waardoor extra moeite en geld tegen de bestrijding van terrorisme op dit moment overbodig is."
   ]
  },
  {
   "cell_type": "code",
   "execution_count": 8,
   "id": "cd33d61a",
   "metadata": {
    "hidden": true
   },
   "outputs": [
    {
     "data": {
      "image/png": "[encoded data removed]",
      "text/plain": [
       "<Figure size 432x288 with 1 Axes>"
      ]
     },
     "metadata": {
      "needs_background": "light"
     },
     "output_type": "display_data"
    }
   ],
   "source": [
    "import pandas as pd\n",
    "import matplotlib.pyplot as plt\n",
    "\n",
    "filename = \"globalterrorismdb_0718dist.csv\"\n",
    "\n",
    "try:\n",
    "    # Lees het CSV-bestand en selecteer de gewenste kolommen\n",
    "    data = pd.read_csv(filename, usecols=[\"eventid\", \"iyear\", \"country_txt\", \"nkill\", \"propextent_txt\", \"natlty1_txt\", \"nwound\", \"success\"], encoding=\"latin-1\")\n",
    "\n",
    "    # Filter de rijen op basis van de jaarconditie\n",
    "    data = data[data[\"iyear\"] >= 2000]\n",
    "\n",
    "    # Bereken het totale aantal voorgevallen per jaar\n",
    "    total_incidents_per_year = data[\"iyear\"].value_counts().sort_index()\n",
    "\n",
    "    # Bereken het aantal succesvolle voorgevallen per jaar\n",
    "    successful_incidents_per_year = data[data[\"success\"] == 1][\"iyear\"].value_counts().sort_index()\n",
    "\n",
    "    # Bereken het succespercentage per jaar\n",
    "    success_rate_per_year = (successful_incidents_per_year / total_incidents_per_year) * 100\n",
    "\n",
    "    # Maak de area chart voor het totale aantal voorgevallen\n",
    "    plt.fill_between(total_incidents_per_year.index, total_incidents_per_year, color=\"lightgrey\", alpha=0.6, label=\"Totaal aantal aanvallen\")\n",
    "    plt.plot(total_incidents_per_year.index, total_incidents_per_year, color=\"grey\", alpha=0.8)\n",
    "\n",
    "    # Maak de area chart voor het aantal succesvolle voorgevallen\n",
    "    plt.fill_between(successful_incidents_per_year.index, successful_incidents_per_year, color=\"skyblue\", alpha=0.4, label=\"Succesvolle aanvallen\")\n",
    "    plt.plot(successful_incidents_per_year.index, successful_incidents_per_year, color=\"deepskyblue\", alpha=0.8)\n",
    "\n",
    "    # Geef de y-as een label\n",
    "    plt.ylabel(\"Aantal aanvallen\")\n",
    "\n",
    "    # Voeg de percentages toe\n",
    "    for i, percentage in enumerate(success_rate_per_year.values):\n",
    "        if i % 2 == 0:\n",
    "            plt.annotate(f\"{percentage:.2f}%\", (success_rate_per_year.index[i], percentage), ha=\"center\", va=\"bottom\", fontsize=8)\n",
    "\n",
    "    # Pas de x-as labels aan\n",
    "    x_ticks = range(2000, 2018, 2)\n",
    "    plt.xticks(x_ticks, fontsize=8)\n",
    "\n",
    "    # Voeg een legenda toe\n",
    "    plt.legend()\n",
    "\n",
    "    # Voeg de titel toe\n",
    "    plt.title(\"Visualisatie 5: Succesrate terroristische aanvallen om de twee jaar\")\n",
    "\n",
    "    # Toon de grafiek\n",
    "    plt.show()\n",
    "\n",
    "except FileNotFoundError:\n",
    "    print(f\"Fout: Bestand '{filename}' niet gevonden.\")\n",
    "except IOError:\n",
    "    print(f\"Fout: Kon bestand '{filename}' niet openen of lezen.\")\n"
   ]
  },
  {
   "cell_type": "markdown",
   "id": "1dcd4965",
   "metadata": {},
   "source": [
    "------------------------------------------------------------------------------------------------------"
   ]
  },
  {
   "cell_type": "markdown",
   "id": "d6072817",
   "metadata": {},
   "source": [
    "## Descriptie visualisatie 5"
   ]
  },
  {
   "cell_type": "markdown",
   "id": "6b96edf1",
   "metadata": {
    "hidden": true
   },
   "source": [
    "Visualisatie 5 is een gebiedsgrafiek. In deze grafiek worden 2 variabelen vergeleken: Het totaal aantal voorgevallen van terrorisme aanvallen per jaar en de ‘succes’ van de aanvallen. Een aanval wordt vaak gepland met een doel. Succes staat voor de waarde die aangeeft of de echte aanval ook echt is gegaan zoals het gepland was. Het grijze gebied geeft alle aanvallen over de jaren weer, het blauwe gebied geeft alle succesvolle aanvallen aan. Onderin staan de jaartallen weergeven en daar net boven staan de succespercentages van om de twee jaar. "
   ]
  },
  {
   "cell_type": "markdown",
   "id": "5e4e2e46",
   "metadata": {},
   "source": [
    "------------------------------------------------------------------------------------------------------"
   ]
  },
  {
   "cell_type": "markdown",
   "id": "c9cd7b89",
   "metadata": {},
   "source": [
    "In visualisatie 5 is te zien dat tussen het jaar 2014 en het jaar 2017 zowel het totaal aantal terroristische aanslagen, als het aantal succesvolle terroristische aanslagen is teruggedrongen. Ook neemt het succespercentage succesvolle aanslagen vanaf het jaar 2007 continu af. Uit deze dalende trend van terroristische aanslagen en het afnemende succespercentage kan geconcludeerd worden dat het treffen van extra veiligheidsmaatregelen tegen terrorisme niet noodzakelijk is. Er zijn op dit moment voldoende maatregelen die zo goed mogelijk voorkomen dat terroristische aanslagen plaatsvinden."
   ]
  },
  {
   "cell_type": "code",
   "execution_count": 9,
   "id": "324b8512",
   "metadata": {
    "hidden": true
   },
   "outputs": [
    {
     "data": {
      "text/html": [
       "        <script type=\"text/javascript\">\n",
       "        window.PlotlyConfig = {MathJaxConfig: 'local'};\n",
       "        if (window.MathJax) {MathJax.Hub.Config({SVG: {font: \"STIX-Web\"}});}\n",
       "        if (typeof require !== 'undefined') {\n",
       "        require.undef(\"plotly\");\n",
       "        requirejs.config({\n",
       "            paths: {\n",
       "                'plotly': ['https://cdn.plot.ly/plotly-2.9.0.min']\n",
       "            }\n",
       "        });\n",
       "        require(['plotly'], function(Plotly) {\n",
       "            window._Plotly = Plotly;\n",
       "        });\n",
       "        }\n",
       "        </script>\n",
       "        "
      ]
     },
     "metadata": {},
     "output_type": "display_data"
    },
    {
     "data": {
      "application/vnd.plotly.v1+json": {
       "config": {
        "plotlyServerURL": "https://plot.ly"
       },
       "data": [
        {
         "coloraxis": "coloraxis",
         "customdata": [
          [
           "Afghanistan",
           12607,
           38955
          ],
          [
           "Albania",
           15,
           1
          ],
          [
           "Algeria",
           1350,
           3653
          ],
          [
           "Angola",
           79,
           1096
          ],
          [
           "Argentina",
           24,
           0
          ],
          [
           "Armenia",
           11,
           8
          ],
          [
           "Australia",
           46,
           10
          ],
          [
           "Austria",
           18,
           3
          ],
          [
           "Azerbaijan",
           18,
           13
          ],
          [
           "Bahamas",
           1,
           0
          ],
          [
           "Bahrain",
           168,
           29
          ],
          [
           "Bangladesh",
           1079,
           499
          ],
          [
           "Belarus",
           9,
           13
          ],
          [
           "Belgium",
           25,
           43
          ],
          [
           "Belize",
           2,
           0
          ],
          [
           "Benin",
           1,
           0
          ],
          [
           "Bhutan",
           6,
           9
          ],
          [
           "Bolivia",
           9,
           0
          ],
          [
           "Bosnia-Herzegovina",
           33,
           9
          ],
          [
           "Brazil",
           26,
           11
          ],
          [
           "Bulgaria",
           17,
           13
          ],
          [
           "Burkina Faso",
           49,
           132
          ],
          [
           "Burundi",
           365,
           922
          ],
          [
           "Cambodia",
           19,
           22
          ],
          [
           "Cameroon",
           313,
           2267
          ],
          [
           "Canada",
           53,
           14
          ],
          [
           "Central African Republic",
           274,
           1979
          ],
          [
           "Chad",
           73,
           828
          ],
          [
           "Chile",
           95,
           5
          ],
          [
           "China",
           137,
           838
          ],
          [
           "Colombia",
           2103,
           2892
          ],
          [
           "Costa Rica",
           1,
           1
          ],
          [
           "Croatia",
           11,
           3
          ],
          [
           "Cuba",
           1,
           1
          ],
          [
           "Cyprus",
           25,
           0
          ],
          [
           "Czech Republic",
           21,
           2
          ],
          [
           "Democratic Republic of the Congo",
           767,
           3987
          ],
          [
           "Denmark",
           8,
           3
          ],
          [
           "Djibouti",
           4,
           5
          ],
          [
           "Dominican Republic",
           3,
           2
          ],
          [
           "East Timor",
           10,
           9
          ],
          [
           "Ecuador",
           30,
           2
          ],
          [
           "Egypt",
           2004,
           3122
          ],
          [
           "Equatorial Guinea",
           1,
           1
          ],
          [
           "Eritrea",
           7,
           40
          ],
          [
           "Estonia",
           4,
           2
          ],
          [
           "Ethiopia",
           100,
           727
          ],
          [
           "Fiji",
           5,
           7
          ],
          [
           "Finland",
           16,
           11
          ],
          [
           "France",
           444,
           281
          ],
          [
           "Gabon",
           4,
           0
          ],
          [
           "Gambia",
           1,
           0
          ],
          [
           "Georgia",
           112,
           50
          ],
          [
           "Germany",
           204,
           41
          ],
          [
           "Ghana",
           2,
           0
          ],
          [
           "Greece",
           548,
           76
          ],
          [
           "Guatemala",
           19,
           18
          ],
          [
           "Guinea",
           18,
           208
          ],
          [
           "Guinea-Bissau",
           9,
           17
          ],
          [
           "Guyana",
           9,
           33
          ],
          [
           "Haiti",
           28,
           27
          ],
          [
           "Honduras",
           16,
           41
          ],
          [
           "Hong Kong",
           5,
           0
          ],
          [
           "Hungary",
           7,
           3
          ],
          [
           "Iceland",
           2,
           0
          ],
          [
           "India",
           8918,
           9999
          ],
          [
           "Indonesia",
           549,
           823
          ],
          [
           "International",
           1,
           1
          ],
          [
           "Iran",
           154,
           499
          ],
          [
           "Iraq",
           24475,
           77911
          ],
          [
           "Ireland",
           167,
           4
          ],
          [
           "Israel",
           1173,
           987
          ],
          [
           "Italy",
           123,
           6
          ],
          [
           "Ivory Coast",
           59,
           217
          ],
          [
           "Jamaica",
           4,
           0
          ],
          [
           "Japan",
           41,
           19
          ],
          [
           "Jordan",
           40,
           116
          ],
          [
           "Kazakhstan",
           19,
           28
          ],
          [
           "Kenya",
           605,
           1437
          ],
          [
           "Kosovo",
           157,
           60
          ],
          [
           "Kuwait",
           12,
           38
          ],
          [
           "Kyrgyzstan",
           27,
           9
          ],
          [
           "Laos",
           19,
           15
          ],
          [
           "Latvia",
           5,
           1
          ],
          [
           "Lebanon",
           609,
           745
          ],
          [
           "Lesotho",
           3,
           1
          ],
          [
           "Liberia",
           13,
           18
          ],
          [
           "Libya",
           2235,
           2571
          ],
          [
           "Macedonia",
           106,
           48
          ],
          [
           "Madagascar",
           13,
           6
          ],
          [
           "Malawi",
           2,
           1
          ],
          [
           "Malaysia",
           62,
           18
          ],
          [
           "Maldives",
           21,
           1
          ],
          [
           "Mali",
           533,
           1237
          ],
          [
           "Malta",
           5,
           1
          ],
          [
           "Mauritania",
           13,
           39
          ],
          [
           "Mexico",
           120,
           178
          ],
          [
           "Moldova",
           5,
           2
          ],
          [
           "Montenegro",
           5,
           1
          ],
          [
           "Morocco",
           13,
           75
          ],
          [
           "Mozambique",
           143,
           163
          ],
          [
           "Myanmar",
           354,
           531
          ],
          [
           "Namibia",
           27,
           25
          ],
          [
           "Nepal",
           1172,
           1906
          ],
          [
           "Netherlands",
           24,
           10
          ],
          [
           "New Zealand",
           11,
           0
          ],
          [
           "Nicaragua",
           3,
           7
          ],
          [
           "Niger",
           114,
           1145
          ],
          [
           "Nigeria",
           3826,
           22239
          ],
          [
           "Norway",
           8,
           78
          ],
          [
           "Pakistan",
           12551,
           20543
          ],
          [
           "Panama",
           3,
           1
          ],
          [
           "Papua New Guinea",
           10,
           0
          ],
          [
           "Paraguay",
           81,
           49
          ],
          [
           "Peru",
           73,
           138
          ],
          [
           "Philippines",
           4920,
           4413
          ],
          [
           "Poland",
           5,
           1
          ],
          [
           "Portugal",
           2,
           0
          ],
          [
           "Qatar",
           4,
           3
          ],
          [
           "Republic of the Congo",
           21,
           61
          ],
          [
           "Romania",
           1,
           0
          ],
          [
           "Russia",
           1866,
           3455
          ],
          [
           "Rwanda",
           31,
           67
          ],
          [
           "Saudi Arabia",
           352,
           570
          ],
          [
           "Senegal",
           46,
           114
          ],
          [
           "Serbia",
           12,
           3
          ],
          [
           "Serbia-Montenegro",
           11,
           3
          ],
          [
           "Sierra Leone",
           28,
           61
          ],
          [
           "Slovak Republic",
           2,
           0
          ],
          [
           "Slovenia",
           1,
           0
          ],
          [
           "Solomon Islands",
           3,
           2
          ],
          [
           "Somalia",
           3973,
           9934
          ],
          [
           "South Africa",
           130,
           83
          ],
          [
           "South Korea",
           5,
           0
          ],
          [
           "South Sudan",
           225,
           2634
          ],
          [
           "Spain",
           421,
           273
          ],
          [
           "Sri Lanka",
           858,
           2810
          ],
          [
           "St. Lucia",
           1,
           2
          ],
          [
           "Sudan",
           891,
           3368
          ],
          [
           "Swaziland",
           5,
           0
          ],
          [
           "Sweden",
           84,
           10
          ],
          [
           "Switzerland",
           15,
           14
          ],
          [
           "Syria",
           2055,
           14707
          ],
          [
           "Taiwan",
           10,
           2
          ],
          [
           "Tajikistan",
           29,
           43
          ],
          [
           "Tanzania",
           52,
           59
          ],
          [
           "Thailand",
           3623,
           2366
          ],
          [
           "Togo",
           1,
           0
          ],
          [
           "Trinidad and Tobago",
           7,
           0
          ],
          [
           "Tunisia",
           97,
           298
          ],
          [
           "Turkey",
           1803,
           2412
          ],
          [
           "Turkmenistan",
           2,
           3
          ],
          [
           "Uganda",
           183,
           1310
          ],
          [
           "Ukraine",
           1683,
           2253
          ],
          [
           "United Arab Emirates",
           5,
           1
          ],
          [
           "United Kingdom",
           1061,
           142
          ],
          [
           "United States",
           475,
           3310
          ],
          [
           "Uruguay",
           2,
           1
          ],
          [
           "Uzbekistan",
           10,
           49
          ],
          [
           "Venezuela",
           56,
           28
          ],
          [
           "Vietnam",
           6,
           0
          ],
          [
           "West Bank and Gaza Strip",
           1287,
           933
          ],
          [
           "Western Sahara",
           1,
           0
          ],
          [
           "Yemen",
           3240,
           8704
          ],
          [
           "Yugoslavia",
           37,
           13
          ],
          [
           "Zambia",
           11,
           0
          ],
          [
           "Zimbabwe",
           29,
           18
          ]
         ],
         "geo": "geo",
         "hovertemplate": "country_txt=%{customdata[0]}<br>aantal_gebeurtenissen=%{z}<br>aantal_slachtoffers=%{customdata[2]}<extra></extra>",
         "locationmode": "country names",
         "locations": [
          "Afghanistan",
          "Albania",
          "Algeria",
          "Angola",
          "Argentina",
          "Armenia",
          "Australia",
          "Austria",
          "Azerbaijan",
          "Bahamas",
          "Bahrain",
          "Bangladesh",
          "Belarus",
          "Belgium",
          "Belize",
          "Benin",
          "Bhutan",
          "Bolivia",
          "Bosnia-Herzegovina",
          "Brazil",
          "Bulgaria",
          "Burkina Faso",
          "Burundi",
          "Cambodia",
          "Cameroon",
          "Canada",
          "Central African Republic",
          "Chad",
          "Chile",
          "China",
          "Colombia",
          "Costa Rica",
          "Croatia",
          "Cuba",
          "Cyprus",
          "Czech Republic",
          "Democratic Republic of the Congo",
          "Denmark",
          "Djibouti",
          "Dominican Republic",
          "East Timor",
          "Ecuador",
          "Egypt",
          "Equatorial Guinea",
          "Eritrea",
          "Estonia",
          "Ethiopia",
          "Fiji",
          "Finland",
          "France",
          "Gabon",
          "Gambia",
          "Georgia",
          "Germany",
          "Ghana",
          "Greece",
          "Guatemala",
          "Guinea",
          "Guinea-Bissau",
          "Guyana",
          "Haiti",
          "Honduras",
          "Hong Kong",
          "Hungary",
          "Iceland",
          "India",
          "Indonesia",
          "International",
          "Iran",
          "Iraq",
          "Ireland",
          "Israel",
          "Italy",
          "Ivory Coast",
          "Jamaica",
          "Japan",
          "Jordan",
          "Kazakhstan",
          "Kenya",
          "Kosovo",
          "Kuwait",
          "Kyrgyzstan",
          "Laos",
          "Latvia",
          "Lebanon",
          "Lesotho",
          "Liberia",
          "Libya",
          "Macedonia",
          "Madagascar",
          "Malawi",
          "Malaysia",
          "Maldives",
          "Mali",
          "Malta",
          "Mauritania",
          "Mexico",
          "Moldova",
          "Montenegro",
          "Morocco",
          "Mozambique",
          "Myanmar",
          "Namibia",
          "Nepal",
          "Netherlands",
          "New Zealand",
          "Nicaragua",
          "Niger",
          "Nigeria",
          "Norway",
          "Pakistan",
          "Panama",
          "Papua New Guinea",
          "Paraguay",
          "Peru",
          "Philippines",
          "Poland",
          "Portugal",
          "Qatar",
          "Republic of the Congo",
          "Romania",
          "Russia",
          "Rwanda",
          "Saudi Arabia",
          "Senegal",
          "Serbia",
          "Serbia-Montenegro",
          "Sierra Leone",
          "Slovak Republic",
          "Slovenia",
          "Solomon Islands",
          "Somalia",
          "South Africa",
          "South Korea",
          "South Sudan",
          "Spain",
          "Sri Lanka",
          "St. Lucia",
          "Sudan",
          "Swaziland",
          "Sweden",
          "Switzerland",
          "Syria",
          "Taiwan",
          "Tajikistan",
          "Tanzania",
          "Thailand",
          "Togo",
          "Trinidad and Tobago",
          "Tunisia",
          "Turkey",
          "Turkmenistan",
          "Uganda",
          "Ukraine",
          "United Arab Emirates",
          "United Kingdom",
          "United States",
          "Uruguay",
          "Uzbekistan",
          "Venezuela",
          "Vietnam",
          "West Bank and Gaza Strip",
          "Western Sahara",
          "Yemen",
          "Yugoslavia",
          "Zambia",
          "Zimbabwe"
         ],
         "name": "",
         "type": "choropleth",
         "z": [
          12607,
          15,
          1350,
          79,
          24,
          11,
          46,
          18,
          18,
          1,
          168,
          1079,
          9,
          25,
          2,
          1,
          6,
          9,
          33,
          26,
          17,
          49,
          365,
          19,
          313,
          53,
          274,
          73,
          95,
          137,
          2103,
          1,
          11,
          1,
          25,
          21,
          767,
          8,
          4,
          3,
          10,
          30,
          2004,
          1,
          7,
          4,
          100,
          5,
          16,
          444,
          4,
          1,
          112,
          204,
          2,
          548,
          19,
          18,
          9,
          9,
          28,
          16,
          5,
          7,
          2,
          8918,
          549,
          1,
          154,
          24475,
          167,
          1173,
          123,
          59,
          4,
          41,
          40,
          19,
          605,
          157,
          12,
          27,
          19,
          5,
          609,
          3,
          13,
          2235,
          106,
          13,
          2,
          62,
          21,
          533,
          5,
          13,
          120,
          5,
          5,
          13,
          143,
          354,
          27,
          1172,
          24,
          11,
          3,
          114,
          3826,
          8,
          12551,
          3,
          10,
          81,
          73,
          4920,
          5,
          2,
          4,
          21,
          1,
          1866,
          31,
          352,
          46,
          12,
          11,
          28,
          2,
          1,
          3,
          3973,
          130,
          5,
          225,
          421,
          858,
          1,
          891,
          5,
          84,
          15,
          2055,
          10,
          29,
          52,
          3623,
          1,
          7,
          97,
          1803,
          2,
          183,
          1683,
          5,
          1061,
          475,
          2,
          10,
          56,
          6,
          1287,
          1,
          3240,
          37,
          11,
          29
         ]
        }
       ],
       "layout": {
        "coloraxis": {
         "colorbar": {
          "title": {
           "text": "aantal_gebeurtenissen"
          }
         },
         "colorscale": [
          [
           0,
           "rgb(255,255,204)"
          ],
          [
           0.125,
           "rgb(255,237,160)"
          ],
          [
           0.25,
           "rgb(254,217,118)"
          ],
          [
           0.375,
           "rgb(254,178,76)"
          ],
          [
           0.5,
           "rgb(253,141,60)"
          ],
          [
           0.625,
           "rgb(252,78,42)"
          ],
          [
           0.75,
           "rgb(227,26,28)"
          ],
          [
           0.875,
           "rgb(189,0,38)"
          ],
          [
           1,
           "rgb(128,0,38)"
          ]
         ]
        },
        "geo": {
         "center": {},
         "domain": {
          "x": [
           0,
           1
          ],
          "y": [
           0,
           1
          ]
         }
        },
        "legend": {
         "tracegroupgap": 0
        },
        "template": {
         "data": {
          "bar": [
           {
            "error_x": {
             "color": "#2a3f5f"
            },
            "error_y": {
             "color": "#2a3f5f"
            },
            "marker": {
             "line": {
              "color": "#E5ECF6",
              "width": 0.5
             },
             "pattern": {
              "fillmode": "overlay",
              "size": 10,
              "solidity": 0.2
             }
            },
            "type": "bar"
           }
          ],
          "barpolar": [
           {
            "marker": {
             "line": {
              "color": "#E5ECF6",
              "width": 0.5
             },
             "pattern": {
              "fillmode": "overlay",
              "size": 10,
              "solidity": 0.2
             }
            },
            "type": "barpolar"
           }
          ],
          "carpet": [
           {
            "aaxis": {
             "endlinecolor": "#2a3f5f",
             "gridcolor": "white",
             "linecolor": "white",
             "minorgridcolor": "white",
             "startlinecolor": "#2a3f5f"
            },
            "baxis": {
             "endlinecolor": "#2a3f5f",
             "gridcolor": "white",
             "linecolor": "white",
             "minorgridcolor": "white",
             "startlinecolor": "#2a3f5f"
            },
            "type": "carpet"
           }
          ],
          "choropleth": [
           {
            "colorbar": {
             "outlinewidth": 0,
             "ticks": ""
            },
            "type": "choropleth"
           }
          ],
          "contour": [
           {
            "colorbar": {
             "outlinewidth": 0,
             "ticks": ""
            },
            "colorscale": [
             [
              0,
              "#0d0887"
             ],
             [
              0.1111111111111111,
              "#46039f"
             ],
             [
              0.2222222222222222,
              "#7201a8"
             ],
             [
              0.3333333333333333,
              "#9c179e"
             ],
             [
              0.4444444444444444,
              "#bd3786"
             ],
             [
              0.5555555555555556,
              "#d8576b"
             ],
             [
              0.6666666666666666,
              "#ed7953"
             ],
             [
              0.7777777777777778,
              "#fb9f3a"
             ],
             [
              0.8888888888888888,
              "#fdca26"
             ],
             [
              1,
              "#f0f921"
             ]
            ],
            "type": "contour"
           }
          ],
          "contourcarpet": [
           {
            "colorbar": {
             "outlinewidth": 0,
             "ticks": ""
            },
            "type": "contourcarpet"
           }
          ],
          "heatmap": [
           {
            "colorbar": {
             "outlinewidth": 0,
             "ticks": ""
            },
            "colorscale": [
             [
              0,
              "#0d0887"
             ],
             [
              0.1111111111111111,
              "#46039f"
             ],
             [
              0.2222222222222222,
              "#7201a8"
             ],
             [
              0.3333333333333333,
              "#9c179e"
             ],
             [
              0.4444444444444444,
              "#bd3786"
             ],
             [
              0.5555555555555556,
              "#d8576b"
             ],
             [
              0.6666666666666666,
              "#ed7953"
             ],
             [
              0.7777777777777778,
              "#fb9f3a"
             ],
             [
              0.8888888888888888,
              "#fdca26"
             ],
             [
              1,
              "#f0f921"
             ]
            ],
            "type": "heatmap"
           }
          ],
          "heatmapgl": [
           {
            "colorbar": {
             "outlinewidth": 0,
             "ticks": ""
            },
            "colorscale": [
             [
              0,
              "#0d0887"
             ],
             [
              0.1111111111111111,
              "#46039f"
             ],
             [
              0.2222222222222222,
              "#7201a8"
             ],
             [
              0.3333333333333333,
              "#9c179e"
             ],
             [
              0.4444444444444444,
              "#bd3786"
             ],
             [
              0.5555555555555556,
              "#d8576b"
             ],
             [
              0.6666666666666666,
              "#ed7953"
             ],
             [
              0.7777777777777778,
              "#fb9f3a"
             ],
             [
              0.8888888888888888,
              "#fdca26"
             ],
             [
              1,
              "#f0f921"
             ]
            ],
            "type": "heatmapgl"
           }
          ],
          "histogram": [
           {
            "marker": {
             "pattern": {
              "fillmode": "overlay",
              "size": 10,
              "solidity": 0.2
             }
            },
            "type": "histogram"
           }
          ],
          "histogram2d": [
           {
            "colorbar": {
             "outlinewidth": 0,
             "ticks": ""
            },
            "colorscale": [
             [
              0,
              "#0d0887"
             ],
             [
              0.1111111111111111,
              "#46039f"
             ],
             [
              0.2222222222222222,
              "#7201a8"
             ],
             [
              0.3333333333333333,
              "#9c179e"
             ],
             [
              0.4444444444444444,
              "#bd3786"
             ],
             [
              0.5555555555555556,
              "#d8576b"
             ],
             [
              0.6666666666666666,
              "#ed7953"
             ],
             [
              0.7777777777777778,
              "#fb9f3a"
             ],
             [
              0.8888888888888888,
              "#fdca26"
             ],
             [
              1,
              "#f0f921"
             ]
            ],
            "type": "histogram2d"
           }
          ],
          "histogram2dcontour": [
           {
            "colorbar": {
             "outlinewidth": 0,
             "ticks": ""
            },
            "colorscale": [
             [
              0,
              "#0d0887"
             ],
             [
              0.1111111111111111,
              "#46039f"
             ],
             [
              0.2222222222222222,
              "#7201a8"
             ],
             [
              0.3333333333333333,
              "#9c179e"
             ],
             [
              0.4444444444444444,
              "#bd3786"
             ],
             [
              0.5555555555555556,
              "#d8576b"
             ],
             [
              0.6666666666666666,
              "#ed7953"
             ],
             [
              0.7777777777777778,
              "#fb9f3a"
             ],
             [
              0.8888888888888888,
              "#fdca26"
             ],
             [
              1,
              "#f0f921"
             ]
            ],
            "type": "histogram2dcontour"
           }
          ],
          "mesh3d": [
           {
            "colorbar": {
             "outlinewidth": 0,
             "ticks": ""
            },
            "type": "mesh3d"
           }
          ],
          "parcoords": [
           {
            "line": {
             "colorbar": {
              "outlinewidth": 0,
              "ticks": ""
             }
            },
            "type": "parcoords"
           }
          ],
          "pie": [
           {
            "automargin": true,
            "type": "pie"
           }
          ],
          "scatter": [
           {
            "marker": {
             "colorbar": {
              "outlinewidth": 0,
              "ticks": ""
             }
            },
            "type": "scatter"
           }
          ],
          "scatter3d": [
           {
            "line": {
             "colorbar": {
              "outlinewidth": 0,
              "ticks": ""
             }
            },
            "marker": {
             "colorbar": {
              "outlinewidth": 0,
              "ticks": ""
             }
            },
            "type": "scatter3d"
           }
          ],
          "scattercarpet": [
           {
            "marker": {
             "colorbar": {
              "outlinewidth": 0,
              "ticks": ""
             }
            },
            "type": "scattercarpet"
           }
          ],
          "scattergeo": [
           {
            "marker": {
             "colorbar": {
              "outlinewidth": 0,
              "ticks": ""
             }
            },
            "type": "scattergeo"
           }
          ],
          "scattergl": [
           {
            "marker": {
             "colorbar": {
              "outlinewidth": 0,
              "ticks": ""
             }
            },
            "type": "scattergl"
           }
          ],
          "scattermapbox": [
           {
            "marker": {
             "colorbar": {
              "outlinewidth": 0,
              "ticks": ""
             }
            },
            "type": "scattermapbox"
           }
          ],
          "scatterpolar": [
           {
            "marker": {
             "colorbar": {
              "outlinewidth": 0,
              "ticks": ""
             }
            },
            "type": "scatterpolar"
           }
          ],
          "scatterpolargl": [
           {
            "marker": {
             "colorbar": {
              "outlinewidth": 0,
              "ticks": ""
             }
            },
            "type": "scatterpolargl"
           }
          ],
          "scatterternary": [
           {
            "marker": {
             "colorbar": {
              "outlinewidth": 0,
              "ticks": ""
             }
            },
            "type": "scatterternary"
           }
          ],
          "surface": [
           {
            "colorbar": {
             "outlinewidth": 0,
             "ticks": ""
            },
            "colorscale": [
             [
              0,
              "#0d0887"
             ],
             [
              0.1111111111111111,
              "#46039f"
             ],
             [
              0.2222222222222222,
              "#7201a8"
             ],
             [
              0.3333333333333333,
              "#9c179e"
             ],
             [
              0.4444444444444444,
              "#bd3786"
             ],
             [
              0.5555555555555556,
              "#d8576b"
             ],
             [
              0.6666666666666666,
              "#ed7953"
             ],
             [
              0.7777777777777778,
              "#fb9f3a"
             ],
             [
              0.8888888888888888,
              "#fdca26"
             ],
             [
              1,
              "#f0f921"
             ]
            ],
            "type": "surface"
           }
          ],
          "table": [
           {
            "cells": {
             "fill": {
              "color": "#EBF0F8"
             },
             "line": {
              "color": "white"
             }
            },
            "header": {
             "fill": {
              "color": "#C8D4E3"
             },
             "line": {
              "color": "white"
             }
            },
            "type": "table"
           }
          ]
         },
         "layout": {
          "annotationdefaults": {
           "arrowcolor": "#2a3f5f",
           "arrowhead": 0,
           "arrowwidth": 1
          },
          "autotypenumbers": "strict",
          "coloraxis": {
           "colorbar": {
            "outlinewidth": 0,
            "ticks": ""
           }
          },
          "colorscale": {
           "diverging": [
            [
             0,
             "#8e0152"
            ],
            [
             0.1,
             "#c51b7d"
            ],
            [
             0.2,
             "#de77ae"
            ],
            [
             0.3,
             "#f1b6da"
            ],
            [
             0.4,
             "#fde0ef"
            ],
            [
             0.5,
             "#f7f7f7"
            ],
            [
             0.6,
             "#e6f5d0"
            ],
            [
             0.7,
             "#b8e186"
            ],
            [
             0.8,
             "#7fbc41"
            ],
            [
             0.9,
             "#4d9221"
            ],
            [
             1,
             "#276419"
            ]
           ],
           "sequential": [
            [
             0,
             "#0d0887"
            ],
            [
             0.1111111111111111,
             "#46039f"
            ],
            [
             0.2222222222222222,
             "#7201a8"
            ],
            [
             0.3333333333333333,
             "#9c179e"
            ],
            [
             0.4444444444444444,
             "#bd3786"
            ],
            [
             0.5555555555555556,
             "#d8576b"
            ],
            [
             0.6666666666666666,
             "#ed7953"
            ],
            [
             0.7777777777777778,
             "#fb9f3a"
            ],
            [
             0.8888888888888888,
             "#fdca26"
            ],
            [
             1,
             "#f0f921"
            ]
           ],
           "sequentialminus": [
            [
             0,
             "#0d0887"
            ],
            [
             0.1111111111111111,
             "#46039f"
            ],
            [
             0.2222222222222222,
             "#7201a8"
            ],
            [
             0.3333333333333333,
             "#9c179e"
            ],
            [
             0.4444444444444444,
             "#bd3786"
            ],
            [
             0.5555555555555556,
             "#d8576b"
            ],
            [
             0.6666666666666666,
             "#ed7953"
            ],
            [
             0.7777777777777778,
             "#fb9f3a"
            ],
            [
             0.8888888888888888,
             "#fdca26"
            ],
            [
             1,
             "#f0f921"
            ]
           ]
          },
          "colorway": [
           "#636efa",
           "#EF553B",
           "#00cc96",
           "#ab63fa",
           "#FFA15A",
           "#19d3f3",
           "#FF6692",
           "#B6E880",
           "#FF97FF",
           "#FECB52"
          ],
          "font": {
           "color": "#2a3f5f"
          },
          "geo": {
           "bgcolor": "white",
           "lakecolor": "white",
           "landcolor": "#E5ECF6",
           "showlakes": true,
           "showland": true,
           "subunitcolor": "white"
          },
          "hoverlabel": {
           "align": "left"
          },
          "hovermode": "closest",
          "mapbox": {
           "style": "light"
          },
          "paper_bgcolor": "white",
          "plot_bgcolor": "#E5ECF6",
          "polar": {
           "angularaxis": {
            "gridcolor": "white",
            "linecolor": "white",
            "ticks": ""
           },
           "bgcolor": "#E5ECF6",
           "radialaxis": {
            "gridcolor": "white",
            "linecolor": "white",
            "ticks": ""
           }
          },
          "scene": {
           "xaxis": {
            "backgroundcolor": "#E5ECF6",
            "gridcolor": "white",
            "gridwidth": 2,
            "linecolor": "white",
            "showbackground": true,
            "ticks": "",
            "zerolinecolor": "white"
           },
           "yaxis": {
            "backgroundcolor": "#E5ECF6",
            "gridcolor": "white",
            "gridwidth": 2,
            "linecolor": "white",
            "showbackground": true,
            "ticks": "",
            "zerolinecolor": "white"
           },
           "zaxis": {
            "backgroundcolor": "#E5ECF6",
            "gridcolor": "white",
            "gridwidth": 2,
            "linecolor": "white",
            "showbackground": true,
            "ticks": "",
            "zerolinecolor": "white"
           }
          },
          "shapedefaults": {
           "line": {
            "color": "#2a3f5f"
           }
          },
          "ternary": {
           "aaxis": {
            "gridcolor": "white",
            "linecolor": "white",
            "ticks": ""
           },
           "baxis": {
            "gridcolor": "white",
            "linecolor": "white",
            "ticks": ""
           },
           "bgcolor": "#E5ECF6",
           "caxis": {
            "gridcolor": "white",
            "linecolor": "white",
            "ticks": ""
           }
          },
          "title": {
           "x": 0.05
          },
          "xaxis": {
           "automargin": true,
           "gridcolor": "white",
           "linecolor": "white",
           "ticks": "",
           "title": {
            "standoff": 15
           },
           "zerolinecolor": "white",
           "zerolinewidth": 2
          },
          "yaxis": {
           "automargin": true,
           "gridcolor": "white",
           "linecolor": "white",
           "ticks": "",
           "title": {
            "standoff": 15
           },
           "zerolinecolor": "white",
           "zerolinewidth": 2
          }
         }
        },
        "title": {
         "text": "Visualisatie 6: Geografische spreiding van terrorisme-incidenten"
        }
       }
      },
      "text/html": [
       "<div>                            <div id=\"c6ad78ce-f94d-42f7-9fda-7a81b898b56c\" class=\"plotly-graph-div\" style=\"height:525px; width:100%;\"></div>            <script type=\"text/javascript\">                require([\"plotly\"], function(Plotly) {                    window.PLOTLYENV=window.PLOTLYENV || {};                                    if (document.getElementById(\"c6ad78ce-f94d-42f7-9fda-7a81b898b56c\")) {                    Plotly.newPlot(                        \"c6ad78ce-f94d-42f7-9fda-7a81b898b56c\",                        [{\"coloraxis\":\"coloraxis\",\"customdata\":[[\"Afghanistan\",12607,38955.0],[\"Albania\",15,1.0],[\"Algeria\",1350,3653.0],[\"Angola\",79,1096.0],[\"Argentina\",24,0.0],[\"Armenia\",11,8.0],[\"Australia\",46,10.0],[\"Austria\",18,3.0],[\"Azerbaijan\",18,13.0],[\"Bahamas\",1,0.0],[\"Bahrain\",168,29.0],[\"Bangladesh\",1079,499.0],[\"Belarus\",9,13.0],[\"Belgium\",25,43.0],[\"Belize\",2,0.0],[\"Benin\",1,0.0],[\"Bhutan\",6,9.0],[\"Bolivia\",9,0.0],[\"Bosnia-Herzegovina\",33,9.0],[\"Brazil\",26,11.0],[\"Bulgaria\",17,13.0],[\"Burkina Faso\",49,132.0],[\"Burundi\",365,922.0],[\"Cambodia\",19,22.0],[\"Cameroon\",313,2267.0],[\"Canada\",53,14.0],[\"Central African Republic\",274,1979.0],[\"Chad\",73,828.0],[\"Chile\",95,5.0],[\"China\",137,838.0],[\"Colombia\",2103,2892.0],[\"Costa Rica\",1,1.0],[\"Croatia\",11,3.0],[\"Cuba\",1,1.0],[\"Cyprus\",25,0.0],[\"Czech Republic\",21,2.0],[\"Democratic Republic of the Congo\",767,3987.0],[\"Denmark\",8,3.0],[\"Djibouti\",4,5.0],[\"Dominican Republic\",3,2.0],[\"East Timor\",10,9.0],[\"Ecuador\",30,2.0],[\"Egypt\",2004,3122.0],[\"Equatorial Guinea\",1,1.0],[\"Eritrea\",7,40.0],[\"Estonia\",4,2.0],[\"Ethiopia\",100,727.0],[\"Fiji\",5,7.0],[\"Finland\",16,11.0],[\"France\",444,281.0],[\"Gabon\",4,0.0],[\"Gambia\",1,0.0],[\"Georgia\",112,50.0],[\"Germany\",204,41.0],[\"Ghana\",2,0.0],[\"Greece\",548,76.0],[\"Guatemala\",19,18.0],[\"Guinea\",18,208.0],[\"Guinea-Bissau\",9,17.0],[\"Guyana\",9,33.0],[\"Haiti\",28,27.0],[\"Honduras\",16,41.0],[\"Hong Kong\",5,0.0],[\"Hungary\",7,3.0],[\"Iceland\",2,0.0],[\"India\",8918,9999.0],[\"Indonesia\",549,823.0],[\"International\",1,1.0],[\"Iran\",154,499.0],[\"Iraq\",24475,77911.0],[\"Ireland\",167,4.0],[\"Israel\",1173,987.0],[\"Italy\",123,6.0],[\"Ivory Coast\",59,217.0],[\"Jamaica\",4,0.0],[\"Japan\",41,19.0],[\"Jordan\",40,116.0],[\"Kazakhstan\",19,28.0],[\"Kenya\",605,1437.0],[\"Kosovo\",157,60.0],[\"Kuwait\",12,38.0],[\"Kyrgyzstan\",27,9.0],[\"Laos\",19,15.0],[\"Latvia\",5,1.0],[\"Lebanon\",609,745.0],[\"Lesotho\",3,1.0],[\"Liberia\",13,18.0],[\"Libya\",2235,2571.0],[\"Macedonia\",106,48.0],[\"Madagascar\",13,6.0],[\"Malawi\",2,1.0],[\"Malaysia\",62,18.0],[\"Maldives\",21,1.0],[\"Mali\",533,1237.0],[\"Malta\",5,1.0],[\"Mauritania\",13,39.0],[\"Mexico\",120,178.0],[\"Moldova\",5,2.0],[\"Montenegro\",5,1.0],[\"Morocco\",13,75.0],[\"Mozambique\",143,163.0],[\"Myanmar\",354,531.0],[\"Namibia\",27,25.0],[\"Nepal\",1172,1906.0],[\"Netherlands\",24,10.0],[\"New Zealand\",11,0.0],[\"Nicaragua\",3,7.0],[\"Niger\",114,1145.0],[\"Nigeria\",3826,22239.0],[\"Norway\",8,78.0],[\"Pakistan\",12551,20543.0],[\"Panama\",3,1.0],[\"Papua New Guinea\",10,0.0],[\"Paraguay\",81,49.0],[\"Peru\",73,138.0],[\"Philippines\",4920,4413.0],[\"Poland\",5,1.0],[\"Portugal\",2,0.0],[\"Qatar\",4,3.0],[\"Republic of the Congo\",21,61.0],[\"Romania\",1,0.0],[\"Russia\",1866,3455.0],[\"Rwanda\",31,67.0],[\"Saudi Arabia\",352,570.0],[\"Senegal\",46,114.0],[\"Serbia\",12,3.0],[\"Serbia-Montenegro\",11,3.0],[\"Sierra Leone\",28,61.0],[\"Slovak Republic\",2,0.0],[\"Slovenia\",1,0.0],[\"Solomon Islands\",3,2.0],[\"Somalia\",3973,9934.0],[\"South Africa\",130,83.0],[\"South Korea\",5,0.0],[\"South Sudan\",225,2634.0],[\"Spain\",421,273.0],[\"Sri Lanka\",858,2810.0],[\"St. Lucia\",1,2.0],[\"Sudan\",891,3368.0],[\"Swaziland\",5,0.0],[\"Sweden\",84,10.0],[\"Switzerland\",15,14.0],[\"Syria\",2055,14707.0],[\"Taiwan\",10,2.0],[\"Tajikistan\",29,43.0],[\"Tanzania\",52,59.0],[\"Thailand\",3623,2366.0],[\"Togo\",1,0.0],[\"Trinidad and Tobago\",7,0.0],[\"Tunisia\",97,298.0],[\"Turkey\",1803,2412.0],[\"Turkmenistan\",2,3.0],[\"Uganda\",183,1310.0],[\"Ukraine\",1683,2253.0],[\"United Arab Emirates\",5,1.0],[\"United Kingdom\",1061,142.0],[\"United States\",475,3310.0],[\"Uruguay\",2,1.0],[\"Uzbekistan\",10,49.0],[\"Venezuela\",56,28.0],[\"Vietnam\",6,0.0],[\"West Bank and Gaza Strip\",1287,933.0],[\"Western Sahara\",1,0.0],[\"Yemen\",3240,8704.0],[\"Yugoslavia\",37,13.0],[\"Zambia\",11,0.0],[\"Zimbabwe\",29,18.0]],\"geo\":\"geo\",\"hovertemplate\":\"country_txt=%{customdata[0]}<br>aantal_gebeurtenissen=%{z}<br>aantal_slachtoffers=%{customdata[2]}<extra></extra>\",\"locationmode\":\"country names\",\"locations\":[\"Afghanistan\",\"Albania\",\"Algeria\",\"Angola\",\"Argentina\",\"Armenia\",\"Australia\",\"Austria\",\"Azerbaijan\",\"Bahamas\",\"Bahrain\",\"Bangladesh\",\"Belarus\",\"Belgium\",\"Belize\",\"Benin\",\"Bhutan\",\"Bolivia\",\"Bosnia-Herzegovina\",\"Brazil\",\"Bulgaria\",\"Burkina Faso\",\"Burundi\",\"Cambodia\",\"Cameroon\",\"Canada\",\"Central African Republic\",\"Chad\",\"Chile\",\"China\",\"Colombia\",\"Costa Rica\",\"Croatia\",\"Cuba\",\"Cyprus\",\"Czech Republic\",\"Democratic Republic of the Congo\",\"Denmark\",\"Djibouti\",\"Dominican Republic\",\"East Timor\",\"Ecuador\",\"Egypt\",\"Equatorial Guinea\",\"Eritrea\",\"Estonia\",\"Ethiopia\",\"Fiji\",\"Finland\",\"France\",\"Gabon\",\"Gambia\",\"Georgia\",\"Germany\",\"Ghana\",\"Greece\",\"Guatemala\",\"Guinea\",\"Guinea-Bissau\",\"Guyana\",\"Haiti\",\"Honduras\",\"Hong Kong\",\"Hungary\",\"Iceland\",\"India\",\"Indonesia\",\"International\",\"Iran\",\"Iraq\",\"Ireland\",\"Israel\",\"Italy\",\"Ivory Coast\",\"Jamaica\",\"Japan\",\"Jordan\",\"Kazakhstan\",\"Kenya\",\"Kosovo\",\"Kuwait\",\"Kyrgyzstan\",\"Laos\",\"Latvia\",\"Lebanon\",\"Lesotho\",\"Liberia\",\"Libya\",\"Macedonia\",\"Madagascar\",\"Malawi\",\"Malaysia\",\"Maldives\",\"Mali\",\"Malta\",\"Mauritania\",\"Mexico\",\"Moldova\",\"Montenegro\",\"Morocco\",\"Mozambique\",\"Myanmar\",\"Namibia\",\"Nepal\",\"Netherlands\",\"New Zealand\",\"Nicaragua\",\"Niger\",\"Nigeria\",\"Norway\",\"Pakistan\",\"Panama\",\"Papua New Guinea\",\"Paraguay\",\"Peru\",\"Philippines\",\"Poland\",\"Portugal\",\"Qatar\",\"Republic of the Congo\",\"Romania\",\"Russia\",\"Rwanda\",\"Saudi Arabia\",\"Senegal\",\"Serbia\",\"Serbia-Montenegro\",\"Sierra Leone\",\"Slovak Republic\",\"Slovenia\",\"Solomon Islands\",\"Somalia\",\"South Africa\",\"South Korea\",\"South Sudan\",\"Spain\",\"Sri Lanka\",\"St. Lucia\",\"Sudan\",\"Swaziland\",\"Sweden\",\"Switzerland\",\"Syria\",\"Taiwan\",\"Tajikistan\",\"Tanzania\",\"Thailand\",\"Togo\",\"Trinidad and Tobago\",\"Tunisia\",\"Turkey\",\"Turkmenistan\",\"Uganda\",\"Ukraine\",\"United Arab Emirates\",\"United Kingdom\",\"United States\",\"Uruguay\",\"Uzbekistan\",\"Venezuela\",\"Vietnam\",\"West Bank and Gaza Strip\",\"Western Sahara\",\"Yemen\",\"Yugoslavia\",\"Zambia\",\"Zimbabwe\"],\"name\":\"\",\"z\":[12607,15,1350,79,24,11,46,18,18,1,168,1079,9,25,2,1,6,9,33,26,17,49,365,19,313,53,274,73,95,137,2103,1,11,1,25,21,767,8,4,3,10,30,2004,1,7,4,100,5,16,444,4,1,112,204,2,548,19,18,9,9,28,16,5,7,2,8918,549,1,154,24475,167,1173,123,59,4,41,40,19,605,157,12,27,19,5,609,3,13,2235,106,13,2,62,21,533,5,13,120,5,5,13,143,354,27,1172,24,11,3,114,3826,8,12551,3,10,81,73,4920,5,2,4,21,1,1866,31,352,46,12,11,28,2,1,3,3973,130,5,225,421,858,1,891,5,84,15,2055,10,29,52,3623,1,7,97,1803,2,183,1683,5,1061,475,2,10,56,6,1287,1,3240,37,11,29],\"type\":\"choropleth\"}],                        {\"template\":{\"data\":{\"bar\":[{\"error_x\":{\"color\":\"#2a3f5f\"},\"error_y\":{\"color\":\"#2a3f5f\"},\"marker\":{\"line\":{\"color\":\"#E5ECF6\",\"width\":0.5},\"pattern\":{\"fillmode\":\"overlay\",\"size\":10,\"solidity\":0.2}},\"type\":\"bar\"}],\"barpolar\":[{\"marker\":{\"line\":{\"color\":\"#E5ECF6\",\"width\":0.5},\"pattern\":{\"fillmode\":\"overlay\",\"size\":10,\"solidity\":0.2}},\"type\":\"barpolar\"}],\"carpet\":[{\"aaxis\":{\"endlinecolor\":\"#2a3f5f\",\"gridcolor\":\"white\",\"linecolor\":\"white\",\"minorgridcolor\":\"white\",\"startlinecolor\":\"#2a3f5f\"},\"baxis\":{\"endlinecolor\":\"#2a3f5f\",\"gridcolor\":\"white\",\"linecolor\":\"white\",\"minorgridcolor\":\"white\",\"startlinecolor\":\"#2a3f5f\"},\"type\":\"carpet\"}],\"choropleth\":[{\"colorbar\":{\"outlinewidth\":0,\"ticks\":\"\"},\"type\":\"choropleth\"}],\"contour\":[{\"colorbar\":{\"outlinewidth\":0,\"ticks\":\"\"},\"colorscale\":[[0.0,\"#0d0887\"],[0.1111111111111111,\"#46039f\"],[0.2222222222222222,\"#7201a8\"],[0.3333333333333333,\"#9c179e\"],[0.4444444444444444,\"#bd3786\"],[0.5555555555555556,\"#d8576b\"],[0.6666666666666666,\"#ed7953\"],[0.7777777777777778,\"#fb9f3a\"],[0.8888888888888888,\"#fdca26\"],[1.0,\"#f0f921\"]],\"type\":\"contour\"}],\"contourcarpet\":[{\"colorbar\":{\"outlinewidth\":0,\"ticks\":\"\"},\"type\":\"contourcarpet\"}],\"heatmap\":[{\"colorbar\":{\"outlinewidth\":0,\"ticks\":\"\"},\"colorscale\":[[0.0,\"#0d0887\"],[0.1111111111111111,\"#46039f\"],[0.2222222222222222,\"#7201a8\"],[0.3333333333333333,\"#9c179e\"],[0.4444444444444444,\"#bd3786\"],[0.5555555555555556,\"#d8576b\"],[0.6666666666666666,\"#ed7953\"],[0.7777777777777778,\"#fb9f3a\"],[0.8888888888888888,\"#fdca26\"],[1.0,\"#f0f921\"]],\"type\":\"heatmap\"}],\"heatmapgl\":[{\"colorbar\":{\"outlinewidth\":0,\"ticks\":\"\"},\"colorscale\":[[0.0,\"#0d0887\"],[0.1111111111111111,\"#46039f\"],[0.2222222222222222,\"#7201a8\"],[0.3333333333333333,\"#9c179e\"],[0.4444444444444444,\"#bd3786\"],[0.5555555555555556,\"#d8576b\"],[0.6666666666666666,\"#ed7953\"],[0.7777777777777778,\"#fb9f3a\"],[0.8888888888888888,\"#fdca26\"],[1.0,\"#f0f921\"]],\"type\":\"heatmapgl\"}],\"histogram\":[{\"marker\":{\"pattern\":{\"fillmode\":\"overlay\",\"size\":10,\"solidity\":0.2}},\"type\":\"histogram\"}],\"histogram2d\":[{\"colorbar\":{\"outlinewidth\":0,\"ticks\":\"\"},\"colorscale\":[[0.0,\"#0d0887\"],[0.1111111111111111,\"#46039f\"],[0.2222222222222222,\"#7201a8\"],[0.3333333333333333,\"#9c179e\"],[0.4444444444444444,\"#bd3786\"],[0.5555555555555556,\"#d8576b\"],[0.6666666666666666,\"#ed7953\"],[0.7777777777777778,\"#fb9f3a\"],[0.8888888888888888,\"#fdca26\"],[1.0,\"#f0f921\"]],\"type\":\"histogram2d\"}],\"histogram2dcontour\":[{\"colorbar\":{\"outlinewidth\":0,\"ticks\":\"\"},\"colorscale\":[[0.0,\"#0d0887\"],[0.1111111111111111,\"#46039f\"],[0.2222222222222222,\"#7201a8\"],[0.3333333333333333,\"#9c179e\"],[0.4444444444444444,\"#bd3786\"],[0.5555555555555556,\"#d8576b\"],[0.6666666666666666,\"#ed7953\"],[0.7777777777777778,\"#fb9f3a\"],[0.8888888888888888,\"#fdca26\"],[1.0,\"#f0f921\"]],\"type\":\"histogram2dcontour\"}],\"mesh3d\":[{\"colorbar\":{\"outlinewidth\":0,\"ticks\":\"\"},\"type\":\"mesh3d\"}],\"parcoords\":[{\"line\":{\"colorbar\":{\"outlinewidth\":0,\"ticks\":\"\"}},\"type\":\"parcoords\"}],\"pie\":[{\"automargin\":true,\"type\":\"pie\"}],\"scatter\":[{\"marker\":{\"colorbar\":{\"outlinewidth\":0,\"ticks\":\"\"}},\"type\":\"scatter\"}],\"scatter3d\":[{\"line\":{\"colorbar\":{\"outlinewidth\":0,\"ticks\":\"\"}},\"marker\":{\"colorbar\":{\"outlinewidth\":0,\"ticks\":\"\"}},\"type\":\"scatter3d\"}],\"scattercarpet\":[{\"marker\":{\"colorbar\":{\"outlinewidth\":0,\"ticks\":\"\"}},\"type\":\"scattercarpet\"}],\"scattergeo\":[{\"marker\":{\"colorbar\":{\"outlinewidth\":0,\"ticks\":\"\"}},\"type\":\"scattergeo\"}],\"scattergl\":[{\"marker\":{\"colorbar\":{\"outlinewidth\":0,\"ticks\":\"\"}},\"type\":\"scattergl\"}],\"scattermapbox\":[{\"marker\":{\"colorbar\":{\"outlinewidth\":0,\"ticks\":\"\"}},\"type\":\"scattermapbox\"}],\"scatterpolar\":[{\"marker\":{\"colorbar\":{\"outlinewidth\":0,\"ticks\":\"\"}},\"type\":\"scatterpolar\"}],\"scatterpolargl\":[{\"marker\":{\"colorbar\":{\"outlinewidth\":0,\"ticks\":\"\"}},\"type\":\"scatterpolargl\"}],\"scatterternary\":[{\"marker\":{\"colorbar\":{\"outlinewidth\":0,\"ticks\":\"\"}},\"type\":\"scatterternary\"}],\"surface\":[{\"colorbar\":{\"outlinewidth\":0,\"ticks\":\"\"},\"colorscale\":[[0.0,\"#0d0887\"],[0.1111111111111111,\"#46039f\"],[0.2222222222222222,\"#7201a8\"],[0.3333333333333333,\"#9c179e\"],[0.4444444444444444,\"#bd3786\"],[0.5555555555555556,\"#d8576b\"],[0.6666666666666666,\"#ed7953\"],[0.7777777777777778,\"#fb9f3a\"],[0.8888888888888888,\"#fdca26\"],[1.0,\"#f0f921\"]],\"type\":\"surface\"}],\"table\":[{\"cells\":{\"fill\":{\"color\":\"#EBF0F8\"},\"line\":{\"color\":\"white\"}},\"header\":{\"fill\":{\"color\":\"#C8D4E3\"},\"line\":{\"color\":\"white\"}},\"type\":\"table\"}]},\"layout\":{\"annotationdefaults\":{\"arrowcolor\":\"#2a3f5f\",\"arrowhead\":0,\"arrowwidth\":1},\"autotypenumbers\":\"strict\",\"coloraxis\":{\"colorbar\":{\"outlinewidth\":0,\"ticks\":\"\"}},\"colorscale\":{\"diverging\":[[0,\"#8e0152\"],[0.1,\"#c51b7d\"],[0.2,\"#de77ae\"],[0.3,\"#f1b6da\"],[0.4,\"#fde0ef\"],[0.5,\"#f7f7f7\"],[0.6,\"#e6f5d0\"],[0.7,\"#b8e186\"],[0.8,\"#7fbc41\"],[0.9,\"#4d9221\"],[1,\"#276419\"]],\"sequential\":[[0.0,\"#0d0887\"],[0.1111111111111111,\"#46039f\"],[0.2222222222222222,\"#7201a8\"],[0.3333333333333333,\"#9c179e\"],[0.4444444444444444,\"#bd3786\"],[0.5555555555555556,\"#d8576b\"],[0.6666666666666666,\"#ed7953\"],[0.7777777777777778,\"#fb9f3a\"],[0.8888888888888888,\"#fdca26\"],[1.0,\"#f0f921\"]],\"sequentialminus\":[[0.0,\"#0d0887\"],[0.1111111111111111,\"#46039f\"],[0.2222222222222222,\"#7201a8\"],[0.3333333333333333,\"#9c179e\"],[0.4444444444444444,\"#bd3786\"],[0.5555555555555556,\"#d8576b\"],[0.6666666666666666,\"#ed7953\"],[0.7777777777777778,\"#fb9f3a\"],[0.8888888888888888,\"#fdca26\"],[1.0,\"#f0f921\"]]},\"colorway\":[\"#636efa\",\"#EF553B\",\"#00cc96\",\"#ab63fa\",\"#FFA15A\",\"#19d3f3\",\"#FF6692\",\"#B6E880\",\"#FF97FF\",\"#FECB52\"],\"font\":{\"color\":\"#2a3f5f\"},\"geo\":{\"bgcolor\":\"white\",\"lakecolor\":\"white\",\"landcolor\":\"#E5ECF6\",\"showlakes\":true,\"showland\":true,\"subunitcolor\":\"white\"},\"hoverlabel\":{\"align\":\"left\"},\"hovermode\":\"closest\",\"mapbox\":{\"style\":\"light\"},\"paper_bgcolor\":\"white\",\"plot_bgcolor\":\"#E5ECF6\",\"polar\":{\"angularaxis\":{\"gridcolor\":\"white\",\"linecolor\":\"white\",\"ticks\":\"\"},\"bgcolor\":\"#E5ECF6\",\"radialaxis\":{\"gridcolor\":\"white\",\"linecolor\":\"white\",\"ticks\":\"\"}},\"scene\":{\"xaxis\":{\"backgroundcolor\":\"#E5ECF6\",\"gridcolor\":\"white\",\"gridwidth\":2,\"linecolor\":\"white\",\"showbackground\":true,\"ticks\":\"\",\"zerolinecolor\":\"white\"},\"yaxis\":{\"backgroundcolor\":\"#E5ECF6\",\"gridcolor\":\"white\",\"gridwidth\":2,\"linecolor\":\"white\",\"showbackground\":true,\"ticks\":\"\",\"zerolinecolor\":\"white\"},\"zaxis\":{\"backgroundcolor\":\"#E5ECF6\",\"gridcolor\":\"white\",\"gridwidth\":2,\"linecolor\":\"white\",\"showbackground\":true,\"ticks\":\"\",\"zerolinecolor\":\"white\"}},\"shapedefaults\":{\"line\":{\"color\":\"#2a3f5f\"}},\"ternary\":{\"aaxis\":{\"gridcolor\":\"white\",\"linecolor\":\"white\",\"ticks\":\"\"},\"baxis\":{\"gridcolor\":\"white\",\"linecolor\":\"white\",\"ticks\":\"\"},\"bgcolor\":\"#E5ECF6\",\"caxis\":{\"gridcolor\":\"white\",\"linecolor\":\"white\",\"ticks\":\"\"}},\"title\":{\"x\":0.05},\"xaxis\":{\"automargin\":true,\"gridcolor\":\"white\",\"linecolor\":\"white\",\"ticks\":\"\",\"title\":{\"standoff\":15},\"zerolinecolor\":\"white\",\"zerolinewidth\":2},\"yaxis\":{\"automargin\":true,\"gridcolor\":\"white\",\"linecolor\":\"white\",\"ticks\":\"\",\"title\":{\"standoff\":15},\"zerolinecolor\":\"white\",\"zerolinewidth\":2}}},\"geo\":{\"domain\":{\"x\":[0.0,1.0],\"y\":[0.0,1.0]},\"center\":{}},\"coloraxis\":{\"colorbar\":{\"title\":{\"text\":\"aantal_gebeurtenissen\"}},\"colorscale\":[[0.0,\"rgb(255,255,204)\"],[0.125,\"rgb(255,237,160)\"],[0.25,\"rgb(254,217,118)\"],[0.375,\"rgb(254,178,76)\"],[0.5,\"rgb(253,141,60)\"],[0.625,\"rgb(252,78,42)\"],[0.75,\"rgb(227,26,28)\"],[0.875,\"rgb(189,0,38)\"],[1.0,\"rgb(128,0,38)\"]]},\"legend\":{\"tracegroupgap\":0},\"title\":{\"text\":\"Visualisatie 6: Geografische spreiding van terrorisme-incidenten\"}},                        {\"responsive\": true}                    ).then(function(){\n",
       "                            \n",
       "var gd = document.getElementById('c6ad78ce-f94d-42f7-9fda-7a81b898b56c');\n",
       "var x = new MutationObserver(function (mutations, observer) {{\n",
       "        var display = window.getComputedStyle(gd).display;\n",
       "        if (!display || display === 'none') {{\n",
       "            console.log([gd, 'removed!']);\n",
       "            Plotly.purge(gd);\n",
       "            observer.disconnect();\n",
       "        }}\n",
       "}});\n",
       "\n",
       "// Listen for the removal of the full notebook cells\n",
       "var notebookContainer = gd.closest('#notebook-container');\n",
       "if (notebookContainer) {{\n",
       "    x.observe(notebookContainer, {childList: true});\n",
       "}}\n",
       "\n",
       "// Listen for the clearing of the current output cell\n",
       "var outputEl = gd.closest('.output');\n",
       "if (outputEl) {{\n",
       "    x.observe(outputEl, {childList: true});\n",
       "}}\n",
       "\n",
       "                        })                };                });            </script>        </div>"
      ]
     },
     "metadata": {},
     "output_type": "display_data"
    }
   ],
   "source": [
    "import pandas as pd\n",
    "import plotly.express as px\n",
    "from plotly.offline import init_notebook_mode \n",
    "init_notebook_mode(connected=True)\n",
    "\n",
    "# Lees de dataset in een pandas DataFrame\n",
    "data = pd.read_csv(filename, usecols=[\"eventid\", \"iyear\", \"imonth\", \"country_txt\", \"region_txt\", \"nkill\", \"propextent_txt\", \"natlty1_txt\"], encoding=\"latin-1\")\n",
    "\n",
    "# Filter rows based on the year condition\n",
    "data = data[data[\"iyear\"] >= 2000]\n",
    "\n",
    "# Groepeer de gegevens per land en bereken het totale aantal gebeurtenissen en het aantal slachtoffers per land\n",
    "land_gebeurtenissen = data.groupby('country_txt').size().reset_index(name='aantal_gebeurtenissen')\n",
    "land_slachtoffers = data.groupby('country_txt')['nkill'].sum().reset_index(name='aantal_slachtoffers')\n",
    "\n",
    "# Voeg de gegevens van het totale aantal gebeurtenissen en slachtoffers samen\n",
    "landen_data = pd.merge(land_gebeurtenissen, land_slachtoffers, on='country_txt')\n",
    "\n",
    "# Maak een choropleth-kaart met een aangepaste kleurschaal\n",
    "fig = px.choropleth(landen_data, locations='country_txt', locationmode='country names', color='aantal_gebeurtenissen',\n",
    "                    hover_data=['country_txt', 'aantal_gebeurtenissen', 'aantal_slachtoffers'],\n",
    "                    title='Visualisatie 6: Geografische spreiding van terrorisme-incidenten',\n",
    "                    color_continuous_scale='YlOrRd')  # Verander de kleurschaal naar YlOrRd voor hoger contrast\n",
    "\n",
    "# Toon de kaart\n",
    "fig.show()"
   ]
  },
  {
   "cell_type": "markdown",
   "id": "e0b14ba1",
   "metadata": {},
   "source": [
    "------------------------------------------------------------------------------------------------------"
   ]
  },
  {
   "cell_type": "markdown",
   "id": "46313a22",
   "metadata": {},
   "source": [
    "## Descriptie visualisatie 6"
   ]
  },
  {
   "cell_type": "markdown",
   "id": "f8f03d31",
   "metadata": {
    "hidden": true
   },
   "source": [
    "Visualisatie 5 is een heatmap van de wereld, waarbij de landen worden gekleurd naar het aantal terroristische aanvallen dat het land kent sinds het jaar 2000. De donkere landen kennen meerdere aanvallen, terwijl de lichtere landen minder aanvallen kennen. Het land met de meeste terroristische aanvallen in de wereld is Iran, gevolgd door Afghanistan, Pakistan en India. De overige landen liggen allemaal relatief dicht bij elkaar met het aantal aanvallen. "
   ]
  },
  {
   "cell_type": "markdown",
   "id": "5e4842a3",
   "metadata": {},
   "source": [
    "------------------------------------------------------------------------------------------------------"
   ]
  },
  {
   "cell_type": "markdown",
   "id": "2bbcac53",
   "metadata": {},
   "source": [
    "In visualisatie 6 is te zien dat het land Iran de meeste terroristische aanvallen heeft gehad. Ook valt op dat er maar enkele landen die echt boven de rest uitstijgen qua aanvallen. Vanuit een westers perspectief ziet het er rustig uit in het Westen. De meeste aanvallen gebeuren in het Midden-Oosten en in het westen van Azië. Het is daarom niet nodig om extra geld uit te geven vanuit het westen, omdat de aanvallen daar relatief meevallen. Het zou overbodig zijn om meer geld uit te geven aan een probleem dat relatief minder speelt in het Westen.  "
   ]
  },
  {
   "cell_type": "markdown",
   "id": "3088439a",
   "metadata": {},
   "source": [
    "# Appendix"
   ]
  },
  {
   "cell_type": "markdown",
   "id": "02130930",
   "metadata": {},
   "source": [
    "Generative AI usage: ChatGPT met GPT 3.5\n",
    "\n",
    "In which parts is AI used: Visualisaties 1, 2, 3 en 4. \n",
    "\n",
    "Reasons of usage: Helpen bij het schrijven en het debuggen van de code voor de visualisatie\n",
    "\n",
    "The prompts that were used: Rewrite and debug this code"
   ]
  },
  {
   "cell_type": "markdown",
   "id": "61c6629d",
   "metadata": {},
   "source": [
    "## Referenties"
   ]
  },
  {
   "cell_type": "markdown",
   "id": "b36dae41",
   "metadata": {},
   "source": [
    "Ministerie van Justitie en Veiligheid. (2023, 31 januari). Definities gebruikt in het Dreigingsbeeld Terrorisme Nederland. Dreigingsbeeld Terrorisme Nederland | Nationaal Coördinator Terrorismebestrijding en Veiligheid. https://www.nctv.nl/onderwerpen/dtn/definities-gebruikt-in-het-dtn"
   ]
  }
 ],
 "metadata": {
  "celltoolbar": "Geen",
  "kernelspec": {
   "display_name": "Python 3 (ipykernel)",
   "language": "python",
   "name": "python3"
  },
  "language_info": {
   "codemirror_mode": {
    "name": "ipython",
    "version": 3
   },
   "file_extension": ".py",
   "mimetype": "text/x-python",
   "name": "python",
   "nbconvert_exporter": "python",
   "pygments_lexer": "ipython3",
   "version": "3.7.13"
  }
 },
 "nbformat": 4,
 "nbformat_minor": 5
}
